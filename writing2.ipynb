{
 "cells": [
  {
   "cell_type": "code",
   "execution_count": null,
   "metadata": {},
   "outputs": [],
   "source": [
    "import pandas as pd\n",
    "import numpy as np\n",
    "import matplotlib.pyplot as plt\n",
    " \n",
    "from sklearn.linear_model import LinearRegression\n"
   ]
  },
  {
   "cell_type": "code",
   "execution_count": null,
   "metadata": {},
   "outputs": [],
   "source": []
  },
  {
   "cell_type": "code",
   "execution_count": null,
   "metadata": {},
   "outputs": [],
   "source": [
    "df = pd.read_csv(\"file path\", sep=\";\")\n",
    "df.head()"
   ]
  },
  {
   "cell_type": "code",
   "execution_count": null,
   "metadata": {},
   "outputs": [],
   "source": [
    "plt.scatter(df.deneyim, df.maas,data=df)\n",
    "plt.xlabel(\"deneyim\")\n",
    "plt.ylabel(\"maaş\")\n",
    "plt.title(\"deneyim-maaş table\")\n",
    "plt.grid(True)\n",
    "plt.show()"
   ]
  },
  {
   "cell_type": "code",
   "execution_count": null,
   "metadata": {},
   "outputs": [],
   "source": [
    "#doğrusal regresyon modeli eğitimi\n",
    "linear_reg = LinearRegression()\n",
    "\n",
    "x = df.deneyim.values.reshape(-1,1)\n",
    "y = df.maas.values.reshape(-1,1)\n",
    "\n",
    "\n",
    "linear_reg.fit(x,y)\n"
   ]
  },
  {
   "cell_type": "code",
   "execution_count": null,
   "metadata": {},
   "outputs": [],
   "source": [
    "y_ekseni_kesisim = np.array([0]).reshape(-1,1)\n",
    "b0 = linear_reg.predict(y_ekseni_kesisim)\n",
    "print(\"b0:\",b0)\n",
    "\n",
    "\n",
    "b0_ = linear_reg.intercept_\n",
    "print(\"b0_:\",b0_)\n",
    "\n",
    "\n",
    "b1 = linear_reg.coef_\n",
    "print(\"eğim:\",b1)"
   ]
  },
  {
   "cell_type": "code",
   "execution_count": null,
   "metadata": {},
   "outputs": [],
   "source": [
    "deneyim = 11\n",
    "\n",
    "maas_yeni = 1663 + 1138*deneyim\n",
    "\n",
    "\n",
    "sonuc = linear_reg.predict(np.array([deneyim]).reshape(-1,1))\n"
   ]
  },
  {
   "cell_type": "code",
   "execution_count": null,
   "metadata": {},
   "outputs": [],
   "source": [
    "array = np.array([0,1,2,3,4,5,6,7,8,9,10,11,12,13,14,15]).reshape(-1,1)\n",
    "\n",
    "\n",
    "plt.figure()\n",
    "plt.scatter(x,y)\n",
    "\n",
    "y_head = linear_reg.predict(array)\n",
    "\n",
    "plt.plot(array,y_head,color=\"red\")\n",
    "plt.xlabel(\"deneyim\")\n",
    "plt.ylabel(\"maaş\")\n",
    "plt.title(\"deneyim-maas\")\n",
    "plt.grid(True)\n",
    "plt.show()\n",
    "\n"
   ]
  },
  {
   "cell_type": "code",
   "execution_count": null,
   "metadata": {},
   "outputs": [],
   "source": [
    "#ÇOKLU DOĞRUSAL REGRESYON\n",
    "\n",
    "import pandas as pd\n",
    "import numpy as np\n",
    "\n",
    "from sklearn.linear_model import LinearRegression\n"
   ]
  },
  {
   "cell_type": "code",
   "execution_count": null,
   "metadata": {},
   "outputs": [],
   "source": [
    "df = pd.read_csv(\"file path\", sep=\";\")\n",
    "df.head()"
   ]
  },
  {
   "cell_type": "code",
   "execution_count": null,
   "metadata": {},
   "outputs": [],
   "source": [
    "x = df.iloc[:, [0,2]].values\n",
    "x"
   ]
  },
  {
   "cell_type": "code",
   "execution_count": null,
   "metadata": {},
   "outputs": [],
   "source": [
    "y = df.maas.values.reshape(-1,1)\n",
    "y"
   ]
  },
  {
   "cell_type": "code",
   "execution_count": null,
   "metadata": {},
   "outputs": [],
   "source": [
    "coklu_dogrusal_regresyon = LinearRegression()\n",
    "\n",
    "coklu_dogrusal_regresyon.fit(x,y)\n"
   ]
  },
  {
   "cell_type": "code",
   "execution_count": null,
   "metadata": {},
   "outputs": [],
   "source": [
    "test_verisi1 = np.array([[10,35]])\n",
    "test_sonucu1 = coklu_dogrusal_regresyon.predict(test_verisi1)\n",
    "print(\"10 yıllık deneyim ve 35 yaş sonucu maaş:{}\",format(test_sonucu1[0]))"
   ]
  },
  {
   "cell_type": "code",
   "execution_count": null,
   "metadata": {},
   "outputs": [],
   "source": [
    "test_verisi2 = np.array([[5,35]])\n",
    "test_sonucu2 = coklu_dogrusal_regresyon.predict(test_verisi2)\n",
    "print(\"5 sene deneyim ve 35 yaş sonucu maaş :{}\", format(test_sonucu2[0]))\n"
   ]
  },
  {
   "cell_type": "code",
   "execution_count": null,
   "metadata": {},
   "outputs": [],
   "source": [
    "import pandas as pd\n",
    "import numpy as np\n",
    "  \n",
    "from sklearn.linear_model import LinearRegression\n",
    "from sklearn.preprocessing import PolynomialFeatures"
   ]
  },
  {
   "cell_type": "code",
   "execution_count": null,
   "metadata": {},
   "outputs": [],
   "source": [
    "df = pd.read_csv(\"file path\",sep=\";\")\n",
    "df.head()\n"
   ]
  },
  {
   "cell_type": "code",
   "execution_count": null,
   "metadata": {},
   "outputs": [],
   "source": [
    "y = df.araba_max_hiz.values.reshape(-1,1)\n",
    "x = df.araba_fiyat.values.reshape(-1,1)\n"
   ]
  },
  {
   "cell_type": "code",
   "execution_count": null,
   "metadata": {},
   "outputs": [],
   "source": [
    "#veriyi görselleştir\n",
    "plt.scatter(x,y)\n",
    "plt.xlabel(\"fiyat\")\n",
    "plt.ylabel(\"son hız\")\n",
    "plt.title(\"fiyat-son hız\")\n",
    "plt.grid(True)\n",
    "plt.show()\n"
   ]
  },
  {
   "cell_type": "code",
   "execution_count": null,
   "metadata": {},
   "outputs": [],
   "source": [
    "lr = LinearRegression()\n",
    "\n",
    "lr.fit(x,y)\n"
   ]
  },
  {
   "cell_type": "code",
   "execution_count": null,
   "metadata": {},
   "outputs": [],
   "source": [
    "y_tahmin = lr.predict(x)\n",
    "plt.scatter(x,y)\n",
    "plt.plot(x,y_tahmin,color=\"red\")\n",
    "plt.xlabel(\"fiyat\")\n",
    "plt.ylabel(\"son hız\")\n",
    "plt.title(\"fiyat-son hız\")\n",
    "plt.grid(True)\n",
    "plt.show()\n",
    "\n",
    "\n",
    "araba_fiyati = 10000\n",
    "print(\"10000 tllik arabanın son hızı : {}\", lr.predict(np.array([araba_fiyati]).reshape(-1,1)))\n",
    "\n"
   ]
  },
  {
   "cell_type": "code",
   "execution_count": null,
   "metadata": {},
   "outputs": [],
   "source": [
    "#polinomsal regresyon\n",
    "\n",
    "polinom_regresyon = PolynomialFeatures(degree=4)\n",
    "\n",
    "x_polinom = polinom_regresyon.fit_transform(x)\n"
   ]
  },
  {
   "cell_type": "code",
   "execution_count": null,
   "metadata": {},
   "outputs": [],
   "source": [
    "lr2 = LinearRegression()\n",
    "lr2.fit(x_polinom,y)\n"
   ]
  },
  {
   "cell_type": "code",
   "execution_count": null,
   "metadata": {},
   "outputs": [],
   "source": [
    "y_tahmin2 = lr2.predict(x_polinom)\n",
    "plt.scatter(x,y)\n",
    "plt.plot(x,y_tahmin,color=\"red\",label=\"doğrusal\")\n",
    "plt.plot(x,y_tahmin2,color=\"green\",label=\"polinomsal\")\n",
    "plt.legend()\n",
    "plt.xlabel(\"fiyat\")\n",
    "plt.ylabel(\"maaksimum hız\")\n",
    "plt.title(\"fiyat-son hız\")\n",
    "plt.grid(True)\n",
    "plt.show()\n"
   ]
  },
  {
   "cell_type": "code",
   "execution_count": null,
   "metadata": {},
   "outputs": [],
   "source": [
    "#R^2    \n",
    "import pandas as pd\n",
    "import numpy as np\n",
    "import matplotlib.pyplot as plt\n",
    "\n",
    "\n",
    "from sklearn.linear_model import LinearRegression\n",
    "from sklearn.preprocessing import PolynomialFeatures\n",
    "from sklearn.metrics import r2_score\n"
   ]
  },
  {
   "cell_type": "code",
   "execution_count": null,
   "metadata": {},
   "outputs": [],
   "source": [
    "df = pd.read_csv(\"file path\", sep=\";\")\n",
    "df.head()"
   ]
  },
  {
   "cell_type": "code",
   "execution_count": null,
   "metadata": {},
   "outputs": [],
   "source": [
    "plt.scatter(df.deneyim,df.maas)\n",
    "plt.xlabel(\"deneyim\")\n",
    "plt.ylabel(\"maaş\")\n",
    "plt.title(\"deneyim-maaş\")\n",
    "plt.grid(True)\n",
    "plt.show()"
   ]
  },
  {
   "cell_type": "code",
   "execution_count": null,
   "metadata": {},
   "outputs": [],
   "source": [
    "x = df.deneyim.values.reshape(-1,1)\n",
    "y = df.maas.values.reshape(-1,1)\n"
   ]
  },
  {
   "cell_type": "code",
   "execution_count": null,
   "metadata": {},
   "outputs": [],
   "source": [
    "linear_reg = LinearRegression()\n",
    "\n",
    "linear_reg.fit(x,y)"
   ]
  },
  {
   "cell_type": "code",
   "execution_count": null,
   "metadata": {},
   "outputs": [],
   "source": [
    "polinom_regresyon = PolynomialFeatures(degree=2)\n",
    "\n",
    "x_polinom = polinom_regresyon.fit_transform(x)\n",
    "\n",
    "poly_reg = LinearRegression()\n",
    "poly_reg.fit(x_polinom,y)"
   ]
  },
  {
   "cell_type": "code",
   "execution_count": null,
   "metadata": {},
   "outputs": [],
   "source": [
    "y_tahmin_linear = linear_reg.predict(x)\n",
    "y_tahmin_poly = poly_reg.predict(x_polinom)\n",
    "\n",
    "\n",
    "plt.scatter(df.deneyim,df.maas)\n",
    "plt.plot(x,y_tahmin_linear,color=\"red\",label=\"linear\")\n",
    "plt.scatter(x,y_tahmin_poly,color=\"green\",label=\"polinomial\")\n",
    "plt.xlabel(\"deneyim(yıl)\")\n",
    "plt.ylabel(\"maaş\")\n",
    "plt.title(\"deneyim-maaş\")\n",
    "plt.grid(True)\n",
    "plt.show()"
   ]
  },
  {
   "cell_type": "code",
   "execution_count": null,
   "metadata": {},
   "outputs": [],
   "source": [
    "print(\"linear regresyonun R kare:{}\",r2_score(y,y_tahmin_linear))\n",
    "print(\"polinomial regresyonun R kare:{}\",r2_score(y,y_tahmin_poly))"
   ]
  },
  {
   "cell_type": "code",
   "execution_count": null,
   "metadata": {},
   "outputs": [],
   "source": [
    "#LOJJİSTİK REGRESYON //ÇOK ÖNEMLİ BİR KISIM PERCEPTRONUN EĞİTİMİNİ ANLATIYOR\n",
    "import numpy as np\n",
    "import pandas as pd\n",
    "import matplotlib.pyplot as plt\n",
    "import seaborn as sns\n",
    "\n",
    "data = pd.read_csv(\"file path\")\n",
    "data.head()"
   ]
  },
  {
   "cell_type": "code",
   "execution_count": null,
   "metadata": {},
   "outputs": [],
   "source": [
    "sns.countplot(data[\"class\"])\n",
    "plt.show()"
   ]
  },
  {
   "cell_type": "code",
   "execution_count": null,
   "metadata": {},
   "outputs": [],
   "source": [
    "data[\"class\"] = [1 if each  == \"abnormal\" else 0  for each in data[\"class\"]]\n",
    "data.head()"
   ]
  },
  {
   "cell_type": "code",
   "execution_count": null,
   "metadata": {},
   "outputs": [],
   "source": [
    "y = data[\"class\"].values\n",
    "x_data = data.drop([\"class\"], axis=1)"
   ]
  },
  {
   "cell_type": "code",
   "execution_count": null,
   "metadata": {},
   "outputs": [],
   "source": [
    "sns.pairplot(x_data)\n",
    "plt.show()"
   ]
  },
  {
   "cell_type": "code",
   "execution_count": null,
   "metadata": {},
   "outputs": [],
   "source": [
    "#normalizasyon\n",
    "x = (x_data - np.min(x_data))/(np.max(x_data)-np.min(x_data)).values"
   ]
  },
  {
   "cell_type": "code",
   "execution_count": null,
   "metadata": {},
   "outputs": [],
   "source": [
    "#eğitim/test bölünmesi\n",
    "from sklearn.model_selection import train_test_split"
   ]
  },
  {
   "cell_type": "code",
   "execution_count": null,
   "metadata": {},
   "outputs": [],
   "source": [
    "#%15 test %85 eğitim\n",
    "x_train,x_test,y_train,y_test = train_test_split(x,y,test_size=0.15,random_state=42)\n",
    "\n",
    "x_train = x_train.T \n",
    "x_test = x_test.T \n",
    "y_train = y_train.T \n",
    "y_test = y_test.T \n",
    "\n",
    "print(\"x_train: \",x_train.shape)\n",
    "print(\"x_test: \",x_test.shape)\n",
    "print(\"y_train: \",y_train.shape)\n",
    "print(\"y_test: \",y_test.shape)"
   ]
  },
  {
   "cell_type": "code",
   "execution_count": null,
   "metadata": {},
   "outputs": [],
   "source": [
    "def update(w, b, x_train, y_train, ogrenme_orani, iterasyon_sayisi):\n",
    "    cost_list = []\n",
    "    cost_list2 = []\n",
    "    index = []\n",
    "    \n",
    "    # iterasyon sayısı kadar\n",
    "    for i in range(iterasyon_sayisi):\n",
    "        # ileri ve geri yayılım yap; maliyet ve gradyant hesapla\n",
    "        cost,gradients = ileriGeriYayılma(w,b,x_train,y_train)\n",
    "        cost_list.append(cost)\n",
    "        # güncelle\n",
    "        w = w - ogrenme_orani * gradients[\"derivative_weight\"]\n",
    "        b = b - ogrenme_orani * gradients[\"derivative_bias\"]\n",
    "        if i % 100 == 0:\n",
    "            cost_list2.append(cost)\n",
    "            index.append(i)\n",
    "            print (\"%i iterasyondan sonra maliyet:  %f \" %(i, cost))\n",
    "            \n",
    "    # ağırlık değerlerini ve yanlılık değerini güncelle\n",
    "    parameters = {\"weight\": w,\"bias\": b}\n",
    "    plt.plot(index,cost_list2)\n",
    "    plt.xticks(index,rotation='vertical')\n",
    "    plt.xlabel(\"İterasyon Sayısı\")\n",
    "    plt.ylabel(\"Maliyet\")\n",
    "    plt.show()\n",
    "    return parameters, gradients, cost_list"
   ]
  },
  {
   "cell_type": "code",
   "execution_count": null,
   "metadata": {},
   "outputs": [],
   "source": [
    "#logistic regression\n",
    "\n",
    "from sklearn.linear_model import LogisticRegression"
   ]
  },
  {
   "cell_type": "code",
   "execution_count": null,
   "metadata": {},
   "outputs": [],
   "source": [
    "#eğitim\n",
    "lr = LogisticRegression()\n",
    "lr.fit(x_train.T ,y_train.T)"
   ]
  },
  {
   "cell_type": "code",
   "execution_count": null,
   "metadata": {},
   "outputs": [],
   "source": [
    "test_dogrulugu = lr.score(x_test.T, y_test.T)\n",
    "print(\"test doğruluğu: {}\".format(test_dogrulugu))"
   ]
  },
  {
   "cell_type": "code",
   "execution_count": null,
   "metadata": {},
   "outputs": [],
   "source": [
    "#K-en yakın komşu\n",
    "import pandas as pd\n",
    "import numpy as np\n",
    "import matplotlib.pyplot as plt\n",
    "import seaborn as sns"
   ]
  },
  {
   "cell_type": "code",
   "execution_count": null,
   "metadata": {},
   "outputs": [],
   "source": [
    "data = pd.read_csv(\"file path\")\n",
    "data.head(3)"
   ]
  },
  {
   "cell_type": "code",
   "execution_count": null,
   "metadata": {},
   "outputs": [],
   "source": [
    "sns.scatterplot(data=data, x=\"lumbar_lordosis_angle\", y=\"pelvic_tilt numeric\", hue=\"class\")\n",
    "plt.xlabel(\"lomber lordoz açısı\")\n",
    "plt.ylabel(\"pelvik eğim\")\n",
    "plt.legend()\n",
    "plt.show()"
   ]
  },
  {
   "cell_type": "code",
   "execution_count": null,
   "metadata": {},
   "outputs": [],
   "source": [
    "data[\"class\"] = [1 if each == \"abnormal\" else 0 for each in data[\"class\"]]\n",
    "data.head(3)\n"
   ]
  },
  {
   "cell_type": "code",
   "execution_count": null,
   "metadata": {},
   "outputs": [],
   "source": [
    "y = data[\"class\"].values\n",
    "x_data = data.drop([\"class\"],axis=1)"
   ]
  },
  {
   "cell_type": "code",
   "execution_count": null,
   "metadata": {},
   "outputs": [],
   "source": [
    "#normalizasyon\n",
    "x = (x_data - np.min(x_data))/(np.max(x_data)-np.min(x_data))"
   ]
  },
  {
   "cell_type": "code",
   "execution_count": null,
   "metadata": {},
   "outputs": [],
   "source": [
    "from sklearn.model_selection import train_test_split\n",
    "x_train,x_test,y_train,y_test = train_test_split(x,y, test_size=0.15, random_state=1)"
   ]
  },
  {
   "cell_type": "code",
   "execution_count": null,
   "metadata": {},
   "outputs": [],
   "source": [
    "#knn models\n",
    "from sklearn.neighbors import KNeighborsClassifier\n",
    "komsu_sayisi = 4\n",
    "knn = KNeighborsClassifier(n_neighbors=komsu_sayisi)\n",
    "knn.fit(x_train,y_train)\n",
    "\n",
    "prediction = knn.predict(x_test)\n",
    "print(\" {} En Yakın Komşu Modeli Test Doğruluk: {} \".format(komsu_sayisi,knn.score(x_test,y_test)))"
   ]
  },
  {
   "cell_type": "code",
   "execution_count": null,
   "metadata": {},
   "outputs": [],
   "source": [
    "#find out best K value\n",
    "score_list = []\n",
    "for each in range(1,50):\n",
    "    knn2 = KNeighborsClassifier(n_neighbors=each)\n",
    "    knn2.fit(x_train,y_train)\n",
    "    score_list.append(knn2.score(x_test,y_test))\n",
    "    \n",
    "plt.plot(range(1,50),score_list)\n",
    "plt.xlabel(\"k değerleri\")\n",
    "plt.ylabel(\"doğruluk\")\n",
    "plt.title(\"en iyi K değerinin bulunması\")\n",
    "plt.show()"
   ]
  },
  {
   "cell_type": "code",
   "execution_count": null,
   "metadata": {},
   "outputs": [],
   "source": [
    "import pandas as pd\n",
    "import numpy as np"
   ]
  },
  {
   "cell_type": "code",
   "execution_count": null,
   "metadata": {},
   "outputs": [],
   "source": [
    "data = pd.read_csv(\"file path\")\n",
    "data.head(3)"
   ]
  },
  {
   "cell_type": "code",
   "execution_count": null,
   "metadata": {},
   "outputs": [],
   "source": [
    "data[\"class\"] = [1 if each == \"abnormal\" else 0 for each in data[\"class\"]]\n",
    "data.head(3)"
   ]
  },
  {
   "cell_type": "code",
   "execution_count": null,
   "metadata": {},
   "outputs": [],
   "source": [
    "y = data[\"class\"].values\n",
    "x_data = data.drop([\"class\"], axis=1)"
   ]
  },
  {
   "cell_type": "code",
   "execution_count": null,
   "metadata": {},
   "outputs": [],
   "source": [
    "#normalizasyon\n",
    "x = (x_data - np.min(x_data))/(np.max(x_data)-np.min(x_data))"
   ]
  },
  {
   "cell_type": "code",
   "execution_count": null,
   "metadata": {},
   "outputs": [],
   "source": [
    "from sklearn.model_selection import train_test_split\n",
    "x_train,x_test,y_train,y_test = train_test_split(x,y,train_size=0.15,random_state=1) "
   ]
  },
  {
   "cell_type": "code",
   "execution_count": null,
   "metadata": {},
   "outputs": [],
   "source": [
    "from sklearn.svm import SVC\n",
    "\n",
    "svm = SVC(random_state=1)\n",
    "svm.fit(x_train,y_train)\n",
    "\n",
    "print(\"Destek Vektör Makinesi Modeli Test Doğruluk: {} \".format(svm.score(x_test,y_test)))"
   ]
  },
  {
   "cell_type": "code",
   "execution_count": null,
   "metadata": {},
   "outputs": [],
   "source": [
    "#decision tree\n",
    "import pandas as pd\n",
    "import numpy as np\n"
   ]
  },
  {
   "cell_type": "code",
   "execution_count": null,
   "metadata": {},
   "outputs": [],
   "source": [
    "data = pd.read_csv(\"file path\")\n",
    "data[\"class\"] = [1 if each == \"Abnormal\" else 0 for each in data[\"class\"]]\n",
    "data.head(3)\n",
    "\n"
   ]
  },
  {
   "cell_type": "code",
   "execution_count": null,
   "metadata": {},
   "outputs": [],
   "source": [
    "#data preparing as usual\n",
    "y = data[\"class\"].values\n",
    "x_data = data.drop([\"class\"], axis=1)\n"
   ]
  },
  {
   "cell_type": "code",
   "execution_count": null,
   "metadata": {},
   "outputs": [],
   "source": [
    "#normalizasyon\n",
    "x = (x_data - np.min(x_data))/(np.max(x_data)-np.min(x_data))"
   ]
  },
  {
   "cell_type": "code",
   "execution_count": null,
   "metadata": {},
   "outputs": [],
   "source": [
    "# eğitim test bölünmesi\n",
    "from sklearn.model_selection import train_test_split\n",
    "# % 15 test,  % 85 eğitim\n",
    "x_train, x_test, y_train, y_test = train_test_split(x,y,test_size = 0.15,random_state=1)"
   ]
  },
  {
   "cell_type": "code",
   "execution_count": null,
   "metadata": {},
   "outputs": [],
   "source": [
    "from sklearn.tree import DecisionTreeClassifier\n",
    "\n",
    "dt = DecisionTreeClassifier()\n",
    "dt.fit(x_train,y_train)\n",
    "\n",
    "print(\"Karar Ağacı Modeli Test Doğruluk: {} \".format(dt.score(x_test,y_test)))"
   ]
  },
  {
   "cell_type": "code",
   "execution_count": null,
   "metadata": {},
   "outputs": [],
   "source": [
    "#rastgele orman\n",
    "import pandas as pd\n",
    "import numpy as np"
   ]
  },
  {
   "cell_type": "code",
   "execution_count": null,
   "metadata": {},
   "outputs": [],
   "source": [
    "data = pd.read_csv(\"file path\")\n",
    "data[\"class\"] = [1 if each == \"abnormal\" else 0 for each in data[\"class\"]]\n",
    "data.head(3)\n"
   ]
  },
  {
   "cell_type": "code",
   "execution_count": null,
   "metadata": {},
   "outputs": [],
   "source": [
    "y = data[\"class\"].value\n",
    "x_data = data.drop([\"class\"],axis=1)\n"
   ]
  },
  {
   "cell_type": "code",
   "execution_count": null,
   "metadata": {},
   "outputs": [],
   "source": [
    "#normalizasyon\n",
    "x = (x_data - np.min(x_data))/(np.max(x_data)-np.min(x_data))"
   ]
  },
  {
   "cell_type": "code",
   "execution_count": null,
   "metadata": {},
   "outputs": [],
   "source": [
    "from sklearn.model_selection import train_test_split\n",
    "\n",
    "x_train,x_test,y_train,y_test = train_test_split(x,y,test_size=0.15,random_state=1)"
   ]
  },
  {
   "cell_type": "code",
   "execution_count": null,
   "metadata": {},
   "outputs": [],
   "source": [
    "from sklearn.ensemble import RandomForestClassifier\n",
    "\n",
    "rf = RandomForestClassifier(n_estimators=100,random_state=1)#100 tane decision tree içerir\n",
    "rf.fit(x_train,y_train)\n",
    "\n",
    "print(\"doğruluk oranı:{}\".format(rf.score(x_test,y_test)))"
   ]
  },
  {
   "cell_type": "code",
   "execution_count": null,
   "metadata": {},
   "outputs": [],
   "source": [
    "#KÜMELEME\n",
    "import pandas as pd\n",
    "import numpy as np\n",
    "import matplotlib.pyplot as plt\n"
   ]
  },
  {
   "cell_type": "code",
   "execution_count": null,
   "metadata": {},
   "outputs": [],
   "source": [
    "#veri seti oluştur\n",
    "x1 = np.random.normal(25,5,1000)\n",
    "y1 = np.random.normal(25,5,1000)\n",
    "\n",
    "\n",
    "x2 = np.random.normal(55,5,1000)\n",
    "y2 = np.random.normal(60,5,1000)\n",
    "\n",
    "\n",
    "x3 = np.random.normal(55,5,1000)\n",
    "y3 = np.random.normal(15,5,1000)\n",
    "\n",
    "\n",
    "x = np.concatenate((x1,x2,x3),axis=0)\n",
    "y = np.concatenate((y1,y2,y3),axis=0)\n",
    "\n",
    "dictionary = {\"x\":x,\"y\":y}\n",
    "\n",
    "data = pd.DataFrame(dictionary)\n",
    "data.head(3)"
   ]
  },
  {
   "cell_type": "code",
   "execution_count": null,
   "metadata": {},
   "outputs": [],
   "source": [
    "plt.figure()\n",
    "plt.scatter(x1,y1)\n",
    "plt.scatter(x2,y2)\n",
    "plt.scatter(x3,y3)\n",
    "plt.xlabel(\"x\")\n",
    "plt.ylabel(\"y\")\n",
    "plt.title(\"K-Ortalama Kümeleme Yöntemi için Oluşturulan Veri Seti\")\n",
    "plt.show()"
   ]
  },
  {
   "cell_type": "code",
   "execution_count": null,
   "metadata": {},
   "outputs": [],
   "source": [
    "from sklearn.cluster import KMeans\n",
    "wcss = []\n",
    "\n",
    "for k in range(1,15):\n",
    "    kmeans = KMeans(n_clusters=k)\n",
    "    kmeans.fit(data)\n",
    "    wcss.append(kmeans.inertia_)\n",
    "   \n",
    "plt.figure()\n",
    "plt.plot(range(1,15),wcss)\n",
    "plt.xticks(range(1,15))\n",
    "plt.xlabel(\"Küme Sayısı (K)\")\n",
    "plt.ylabel(\"wcss\")\n",
    "plt.show()"
   ]
  }
 ],
 "metadata": {
  "language_info": {
   "name": "python"
  }
 },
 "nbformat": 4,
 "nbformat_minor": 2
}
