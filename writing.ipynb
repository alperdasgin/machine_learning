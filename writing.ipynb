{
 "cells": [
  {
   "cell_type": "code",
   "execution_count": null,
   "metadata": {},
   "outputs": [],
   "source": [
    "dosya = open(\"giderlerr.txt\", \"w\")\n",
    "dosya.write(\"somestrings\")\n",
    "dosya.close()\n"
   ]
  },
  {
   "cell_type": "code",
   "execution_count": null,
   "metadata": {},
   "outputs": [],
   "source": []
  },
  {
   "cell_type": "code",
   "execution_count": null,
   "metadata": {},
   "outputs": [],
   "source": []
  },
  {
   "cell_type": "code",
   "execution_count": null,
   "metadata": {},
   "outputs": [],
   "source": [
    "dosya = open(\"giderlerr.txt\", \"a\")\n",
    "dosya.write(\"somestring\")\n",
    "dosya.close()\n"
   ]
  },
  {
   "cell_type": "code",
   "execution_count": null,
   "metadata": {},
   "outputs": [],
   "source": [
    "dosya = open(\"giderlerr.txt\", \"r\")\n",
    "print(dosya.read())\n",
    "print(dosya.readline())\n",
    "print(dosya.readlines())"
   ]
  },
  {
   "cell_type": "code",
   "execution_count": null,
   "metadata": {},
   "outputs": [],
   "source": [
    "dosya2 = open(\"giderlerr.txt\", \"r+\")\n",
    "veri = dosya2.read()\n",
    "dosya2.seek(0)\n",
    "dosya2.write(\"en başa gelecek string\" + veri)\n",
    "dosya2.close()\n"
   ]
  },
  {
   "cell_type": "code",
   "execution_count": null,
   "metadata": {},
   "outputs": [],
   "source": [
    "import pandas as pd "
   ]
  },
  {
   "cell_type": "code",
   "execution_count": null,
   "metadata": {},
   "outputs": [],
   "source": [
    "veri = [[\"Ali\",22],[\"Kemal\",21],[\"Sercan\",23]]\n",
    "df1 = pd.DataFrame(veri, columns = [\"isim\",\"yaş\"], dtype=float)\n",
    "print(df1)\n"
   ]
  },
  {
   "cell_type": "code",
   "execution_count": null,
   "metadata": {},
   "outputs": [],
   "source": [
    "veri2 = {'isim': [\"Ayşe\",\"Fatma\",\"Hayriye\"], 'yaş': [27,28,29]}\n",
    "df2 = pd.DataFrame(veri2)\n",
    "print(df2)"
   ]
  },
  {
   "cell_type": "code",
   "execution_count": null,
   "metadata": {},
   "outputs": [],
   "source": [
    "veri2 = {'isim': [\"Ayşe\",\"Fatma\",\"Hayriye\"], 'yaş': [27,28,29]}\n",
    "df3 = pd.DataFrame(veri2, index = [1,2,3])\n",
    "print(df3)"
   ]
  },
  {
   "cell_type": "code",
   "execution_count": null,
   "metadata": {},
   "outputs": [],
   "source": [
    "yeni_veri = {'ilk': pd.Series[...],\n",
    "             'ikinci': pd.Series[],\n",
    "             ...\n",
    "             }\n",
    "df3 = pd.DataFrame(yeni_veri)\n",
    "print(df3)"
   ]
  },
  {
   "cell_type": "code",
   "execution_count": null,
   "metadata": {},
   "outputs": [],
   "source": [
    "del df3['ilk']\n",
    "print(df3)"
   ]
  },
  {
   "cell_type": "code",
   "execution_count": null,
   "metadata": {},
   "outputs": [],
   "source": [
    "df3.pop('üçüncü')\n",
    "print(df3)"
   ]
  },
  {
   "cell_type": "code",
   "execution_count": null,
   "metadata": {},
   "outputs": [],
   "source": [
    "print(df3.loc[1])\n",
    "print(df3[1:3])"
   ]
  },
  {
   "cell_type": "code",
   "execution_count": null,
   "metadata": {},
   "outputs": [],
   "source": [
    "df4 = pd.DataFrame([[1,2],[3,4]], columns = ['a','b'])\n",
    "df5 = pd.DataFrame([[5,6],[7,8]], columns = ['a','b'])\n",
    "print(df4)\n",
    "print(\".....\")\n",
    "print(df5)\n"
   ]
  },
  {
   "cell_type": "code",
   "execution_count": null,
   "metadata": {},
   "outputs": [],
   "source": [
    "df4 = df4.drop(0)\n",
    "print(df4)"
   ]
  },
  {
   "cell_type": "code",
   "execution_count": null,
   "metadata": {},
   "outputs": [],
   "source": [
    "import pandas as pd\n",
    "yeni_veri = {'birinci' : pd.Series(['Ahmet', 'Mehmet', 'Ayşe', 'Fatma', 'Cevdet', 'Süleyman']),\n",
    "             'ikinci' : pd.Series(['Ahmet', 'Mehmet', 'Ayşe', 'Fatma', 'Cevdet', 'Süleyman'])}\n",
    "df6 = pd.DataFrame(yeni_veri)\n",
    "print(df6)"
   ]
  },
  {
   "cell_type": "code",
   "execution_count": null,
   "metadata": {},
   "outputs": [],
   "source": [
    "df1 = pd.DataFrame(pd.random.randn(10,3), columns = ['numbers1','numbers2','numbers3'])\n",
    "print(df1)\n",
    "\n",
    "for anahtar,değer in df1.iteritems():\n",
    "    print(anahtar,değer)"
   ]
  },
  {
   "cell_type": "code",
   "execution_count": null,
   "metadata": {},
   "outputs": [],
   "source": [
    "df1 = pd.DataFrame(pd.random.randn(10,3), columns = ['sütun1','sütun2', 'sütun3'])\n",
    "print(df1)\n",
    "\n",
    "for satir_indeksi, satir in df1.iterrows():\n",
    "    print(satir_indeksi,satir)\n",
    "    "
   ]
  },
  {
   "cell_type": "code",
   "execution_count": null,
   "metadata": {},
   "outputs": [],
   "source": [
    "df1 = pd.DataFrame(pd.random.randn(10,3), columns = ['sütun1','sütun2','sütun3'])\n",
    "print(df1)\n",
    "\n",
    "for satir in df1.itertuples():\n",
    "    print(satir)"
   ]
  },
  {
   "cell_type": "code",
   "execution_count": null,
   "metadata": {},
   "outputs": [],
   "source": [
    "import matplotlib.pyplot as plt\n",
    "import numpy as np "
   ]
  },
  {
   "cell_type": "code",
   "execution_count": null,
   "metadata": {},
   "outputs": [],
   "source": [
    "plt.plot([1,2,3,4],[1,4,9,16], 'r<-')\n",
    "plt.xlabel('tamsayılar')\n",
    "plt.ylabel('tamsayıların kareleri')\n",
    "plt.title('başlık')\n",
    "plt.show()\n"
   ]
  },
  {
   "cell_type": "code",
   "execution_count": null,
   "metadata": {},
   "outputs": [],
   "source": [
    "veri = {'a': np.arrange(50),\n",
    "        'c': np.random.randint(0,50,50),\n",
    "        'd': np.random.randn(50)\n",
    "            }\n",
    "veri['b'] = ...\n",
    "veri['d'] = ...\n",
    "plt.scatter('a','b', s = 'c', c = 'd', data = veri)\n",
    "plt.xlabel('x verileri')\n",
    "plt.ylabel('y verileri')\n",
    "plt.show()\n"
   ]
  },
  {
   "cell_type": "code",
   "execution_count": null,
   "metadata": {},
   "outputs": [],
   "source": [
    "isimler = [ 'Ayşe','fatma','hayriye','ismet']\n",
    "degerler = [5,25,50,100]\n",
    "plt.figure(figsize=(9,3))\n",
    "\n",
    "plt.subplot(131)\n",
    "plt.bar(isimler,degerler)\n",
    "\n",
    "plt.subplot(132)\n",
    "plt.scatter(isimler,degerler)\n",
    "\n",
    "plt.subplot(133)\n",
    "plt.plot(isimler,degerler)\n",
    "\n",
    "plt.show()\n",
    "\n"
   ]
  },
  {
   "cell_type": "code",
   "execution_count": null,
   "metadata": {},
   "outputs": [],
   "source": [
    "import numpy as np \n",
    "t = np.arrange(0.0, 5.0, 0.2)\n",
    "plt.plot(t,t,'b',linewidth = 2.0)\n",
    "plt.show()"
   ]
  },
  {
   "cell_type": "code",
   "execution_count": null,
   "metadata": {},
   "outputs": [],
   "source": [
    "import pandas as pd\n",
    "import seaborn as sns\n",
    "veri = pd.read_csv(\"filename\")\n",
    "veri.head()\n"
   ]
  },
  {
   "cell_type": "code",
   "execution_count": null,
   "metadata": {},
   "outputs": [],
   "source": [
    "plt.scatter('boy', 'kilo', data = veri)\n"
   ]
  },
  {
   "cell_type": "code",
   "execution_count": null,
   "metadata": {},
   "outputs": [],
   "source": [
    "import seaborn as sns\n",
    "sns.set_style('whitegrid')\n",
    "sns.scatterplot(x='boy', y='kilo', data=veri)\n",
    "plt.xlabel(\"sporcunun boyu\")\n",
    "plt.ylabel(\"sporcunun aağırlığı\")\n",
    "plt.show()"
   ]
  },
  {
   "cell_type": "code",
   "execution_count": null,
   "metadata": {},
   "outputs": [],
   "source": [
    "sns.set_style(\"whitegrid\")\n",
    "\n",
    "sns.scatterplot(x='boy', y='kilo',hue= 'cinsiyet' , data = veri)\n",
    "plt.xlabel('Sporcuların Boyu')\n",
    "plt.ylabel('Sporcuların Ağırlığı')\n",
    "plt.title('Madalyalı Sporcuların Ağırlık-Boy Değişimleri')\n",
    "plt.show()"
   ]
  },
  {
   "cell_type": "code",
   "execution_count": null,
   "metadata": {},
   "outputs": [],
   "source": [
    "sns.set_style(\"whitegrid\")\n",
    "\n",
    "sns.scatterplot(x='boy',y='kilo',hue='cinsiyet',style='madalya',data=veri)\n",
    "plt.xlabel('Sporcuların Boyu')\n",
    "plt.ylabel('Sporcuların Ağırlığı')\n",
    "plt.title('Madalyalı Sporcuların Ağırlık-Boy Değişimleri')\n",
    "plt.show()\n"
   ]
  },
  {
   "cell_type": "code",
   "execution_count": null,
   "metadata": {},
   "outputs": [],
   "source": [
    "sns.set_style(\"whitegrid\")\n",
    "\n",
    "sns.scatterplot(x='boy',y='kilo',hue='madalya',style='cinsiyet',size='yas',sizes=(15,200),data=veri)\n",
    "plt.xlabel('Sporcuların Boyu')\n",
    "plt.ylabel('Sporcuların Ağırlığı')\n",
    "plt.title('Madalyalı Sporcuların Ağırlık-Boy Değişimleri')\n",
    "plt.show()\n"
   ]
  },
  {
   "cell_type": "code",
   "execution_count": null,
   "metadata": {},
   "outputs": [],
   "source": [
    "sns.set_style('whitegrid')\n",
    "sns.lineplot(x='boy',y='kilo',hue='cinsiyet', data=veri)\n",
    "plt.xlabel('Sporcuların Boyu')\n",
    "plt.ylabel('Sporcuların Ağırlığı')\n",
    "plt.title('Madalyalı Sporcuların Ağırlık-Boy Değişimleri')\n",
    "plt.show()"
   ]
  },
  {
   "cell_type": "code",
   "execution_count": null,
   "metadata": {},
   "outputs": [],
   "source": [
    "sns.countplot(x='sehir', data=veri)\n",
    "plt.xticks(rotation = 90)\n",
    "plt.show()"
   ]
  },
  {
   "cell_type": "code",
   "execution_count": null,
   "metadata": {},
   "outputs": [],
   "source": [
    "import pandas as pd\n",
    "import matplotlib.pyplot as plt\n",
    "import seaborn as sns\n",
    "\n",
    "import warnings\n",
    "warnings.filterwarnings('ignore')\n"
   ]
  },
  {
   "cell_type": "code",
   "execution_count": null,
   "metadata": {},
   "outputs": [],
   "source": [
    "veri = pd.read_csv('dosya path')\n",
    "veri.head()\n"
   ]
  },
  {
   "cell_type": "code",
   "execution_count": null,
   "metadata": {},
   "outputs": [],
   "source": [
    "def sacilimGrafik():\n",
    "    sns.scatterplot(x='boy',y='kilo', data=veri)\n",
    "    plt.title('boy-kilo grafiği')\n",
    "    plt.show()\n",
    "sacilimGrafik()"
   ]
  },
  {
   "cell_type": "code",
   "execution_count": null,
   "metadata": {},
   "outputs": [],
   "source": [
    "sns.set_style(\"white\")\n",
    "sacilimGrafik()\n",
    "sns.set_style(\"darkgrid\")\n",
    "sacilimGrafik()\n"
   ]
  },
  {
   "cell_type": "code",
   "execution_count": null,
   "metadata": {},
   "outputs": [],
   "source": [
    "sns.scatterplot(x='boy',y='kilo', hue='madalya', data=veri)\n",
    "plt.title('boy-kilo')\n",
    "plt.show()"
   ]
  },
  {
   "cell_type": "code",
   "execution_count": null,
   "metadata": {},
   "outputs": [],
   "source": [
    "sns.regplot(x='boy',y='kilo', data = veri, marker = '+', scatter_kws={'alpha':0.2})\n",
    "plt.title('boy_kilo')\n",
    "plt.show()"
   ]
  },
  {
   "cell_type": "code",
   "execution_count": null,
   "metadata": {},
   "outputs": [],
   "source": [
    "sns.scatterplot(x='boy',y='kilo',hue='madalya', data=veri, palette='set1')\n",
    "plt.title('boy-kilo')\n",
    "plt.show()"
   ]
  },
  {
   "cell_type": "code",
   "execution_count": null,
   "metadata": {},
   "outputs": [],
   "source": [
    "veri.drop(['id','oyunlar'], axis=1)"
   ]
  },
  {
   "cell_type": "code",
   "execution_count": null,
   "metadata": {},
   "outputs": [],
   "source": [
    "yas_ortalaması = np.round(np.mean(veri.yas),2)\n",
    "veri['yas'] = veri['yas'].fillna(yas_ortalaması)\n",
    "veri.info()"
   ]
  },
  {
   "cell_type": "code",
   "execution_count": null,
   "metadata": {},
   "outputs": [],
   "source": [
    "madalya_degiskeni = veri['madalya']\n",
    "np.isnull(madalya_degiskeni).sum()\n",
    "madalya_degiskeni_filtresi = tilda pd.isnull(madalya_degiskeni)\n",
    "veri = veri[madalya_degiskeni_filtresi]\n",
    "veri.to_csv(\"filedirectory\", index=False)"
   ]
  },
  {
   "cell_type": "code",
   "execution_count": null,
   "metadata": {},
   "outputs": [],
   "source": [
    "def plotHistogram(degisken):\n",
    "    plt.figure()\n",
    "    plt.hist(veri[degisken], bins=85, color=\"orange\")\n",
    "    plt.xlabel(degisken)\n",
    "    plt.ylabel(\"Frekans\")\n",
    "    plt.title(\"{} - veri sıklığı\".format(degisken))\n",
    "    plt.show\n",
    "    \n",
    "    \n",
    "    \n",
    "sayisal_degisken = [\"yas\",\"boy\",\"kilo\",\"yil\"]\n",
    "for i in sayisal_degisken:\n",
    "    plotHistogram(i)\n",
    "             "
   ]
  },
  {
   "cell_type": "code",
   "execution_count": null,
   "metadata": {},
   "outputs": [],
   "source": [
    "veri_gecici = veri.copy()\n",
    "veri_gecici = pd.get_dummies(veri_gecici,columns=['madalya'])\n",
    "veri_gecici.head(2)\n"
   ]
  },
  {
   "cell_type": "code",
   "execution_count": null,
   "metadata": {},
   "outputs": [],
   "source": [
    "veri_gecici.loc[:, ['yas','madalya_bronz','madalya_gümüs','madalya_altin']].corr()\n"
   ]
  },
  {
   "cell_type": "code",
   "execution_count": null,
   "metadata": {},
   "outputs": [],
   "source": [
    "veri_gecici[['takim','madalya_altin','madalya_gümüs','madalya_bronz']].groupby(['takim'], as_index=False).sum().sort_values(by='madalya_altin',ascending=False)[:10]\n",
    "\n",
    "veri_gecici[['sehir','madalya_altin','madalya_gümüs','madalya_bronz']].groupby(['sehir'], as_index=False).sum().sort_values(by='madalya_altin',ascending=False)[:10]\n"
   ]
  }
 ],
 "metadata": {
  "kernelspec": {
   "display_name": "Python 3",
   "language": "python",
   "name": "python3"
  },
  "language_info": {
   "codemirror_mode": {
    "name": "ipython",
    "version": 3
   },
   "file_extension": ".py",
   "mimetype": "text/x-python",
   "name": "python",
   "nbconvert_exporter": "python",
   "pygments_lexer": "ipython3",
   "version": "3.11.1"
  }
 },
 "nbformat": 4,
 "nbformat_minor": 2
}
